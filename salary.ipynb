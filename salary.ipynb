{
 "cells": [
  {
   "cell_type": "code",
   "execution_count": 1,
   "id": "95adba4d",
   "metadata": {},
   "outputs": [
    {
     "name": "stdout",
     "output_type": "stream",
     "text": [
      "Payment Slip for Worker_1: Salary = $19089, Level = A1\n",
      "Payment Slip for Worker_2: Salary = $23490, Level = Others\n",
      "Payment Slip for Worker_3: Salary = $7352, Level = Others\n",
      "Payment Slip for Worker_4: Salary = $22100, Level = Others\n",
      "Payment Slip for Worker_5: Salary = $16143, Level = A1\n",
      "Payment Slip for Worker_6: Salary = $30201, Level = Others\n",
      "Payment Slip for Worker_7: Salary = $12048, Level = A1\n",
      "Payment Slip for Worker_8: Salary = $34654, Level = Others\n",
      "Payment Slip for Worker_9: Salary = $8231, Level = Others\n",
      "Payment Slip for Worker_10: Salary = $25975, Level = A5-F\n"
     ]
    }
   ],
   "source": [
    "import random\n",
    "\n",
    "# Step 2: Generate a list of 400 workers dynamically with varying salary ranges\n",
    "workers = []\n",
    "for i in range(400):\n",
    "    worker = {\n",
    "        'name': f'Worker_{i + 1}',\n",
    "        'gender': random.choice(['Male', 'Female']),\n",
    "        'salary': random.randint(6000, 35000)  # Salary range\n",
    "    }\n",
    "    workers.append(worker)\n",
    "\n",
    "# Step 5: Exception handling is implemented to manage potential errors\n",
    "def generate_payment_slips(workers):\n",
    "    payment_slips = []\n",
    "    \n",
    "    for worker in workers:\n",
    "        try:\n",
    "            # Step 4: Incorporate the specified conditional statements within the loop\n",
    "            if 10000 < worker['salary'] < 20000:\n",
    "                worker['level'] = 'A1'\n",
    "            elif 7500 < worker['salary'] < 30000 and worker['gender'] == 'Female':\n",
    "                worker['level'] = 'A5-F'\n",
    "            else:\n",
    "                worker['level'] = 'Others'  # Default level for other cases\n",
    "            \n",
    "            # Generate the payment slip\n",
    "            payment_slip = f\"Payment Slip for {worker['name']}: Salary = ${worker['salary']}, Level = {worker['level']}\"\n",
    "            payment_slips.append(payment_slip)\n",
    "        \n",
    "        except KeyError as ke:\n",
    "            print(f\"KeyError: {ke} for worker {worker['name']}.\")\n",
    "        except Exception as e:\n",
    "            print(f\"An error occurred for worker {worker['name']}: {e}\")\n",
    "    \n",
    "    return payment_slips\n",
    "\n",
    "# Step 3: Generate payment slips for all workers\n",
    "payment_slips = generate_payment_slips(workers)\n",
    "\n",
    "# Display a sample of payment slips\n",
    "for slip in payment_slips[:10]:\n",
    "    print(slip)\n",
    "\n"
   ]
  },
  {
   "cell_type": "code",
   "execution_count": null,
   "id": "ce178aaf",
   "metadata": {},
   "outputs": [],
   "source": []
  }
 ],
 "metadata": {
  "kernelspec": {
   "display_name": "Python 3 (ipykernel)",
   "language": "python",
   "name": "python3"
  },
  "language_info": {
   "codemirror_mode": {
    "name": "ipython",
    "version": 3
   },
   "file_extension": ".py",
   "mimetype": "text/x-python",
   "name": "python",
   "nbconvert_exporter": "python",
   "pygments_lexer": "ipython3",
   "version": "3.10.9"
  }
 },
 "nbformat": 4,
 "nbformat_minor": 5
}
